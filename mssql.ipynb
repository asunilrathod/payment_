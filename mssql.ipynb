import pyodbc

# Connection details
server = 'SUNILRATHOD\SUNIL'  # Replace with your SQL Server instance name if needed
database = 'ZXCV'  # Replace with your database name
conn = pyodbc.connect('DRIVER={SQL Server};SERVER=' + server + ';DATABASE=' + database + ';Trusted_Connection=yes')

# Create a cursor
cursor = conn.cursor()

# Define the SQL query to retrieve data from a specific table
table_name = 'dbo.owners'  # Replace with the name of your table
query = f'SELECT * FROM {table_name}'

# Execute the SQL query
cursor.execute(query)

# Fetch all rows from the result set
rows = cursor.fetchall()

# Process and print the data
for row in rows:
    print(row)

# Close the cursor and connection when done
cursor.close()
conn.close()
